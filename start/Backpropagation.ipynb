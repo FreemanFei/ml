{
 "cells": [
  {
   "cell_type": "code",
   "execution_count": 1,
   "metadata": {
    "collapsed": true
   },
   "outputs": [],
   "source": [
    "import numpy as np"
   ]
  },
  {
   "cell_type": "code",
   "execution_count": 2,
   "metadata": {
    "collapsed": true
   },
   "outputs": [],
   "source": [
    "# sigmoid function  \n",
    "def nonlin(x,deriv=False):  \n",
    "    if(deriv==True):  \n",
    "        return x*(1-x)  \n",
    "    return 1/(1+np.exp(-x))  "
   ]
  },
  {
   "cell_type": "code",
   "execution_count": 3,
   "metadata": {
    "collapsed": true
   },
   "outputs": [],
   "source": [
    "# input dataset  \n",
    "X = np.array([  [0,0,1],  \n",
    "                [0,1,1],  \n",
    "                [1,0,1],  \n",
    "                [1,1,1] ])  "
   ]
  },
  {
   "cell_type": "code",
   "execution_count": 4,
   "metadata": {
    "collapsed": true
   },
   "outputs": [],
   "source": [
    "# output dataset              \n",
    "y = np.array([[0,0,1,1]]).T  "
   ]
  },
  {
   "cell_type": "code",
   "execution_count": 31,
   "metadata": {
    "collapsed": true
   },
   "outputs": [],
   "source": [
    "# seed random numbers to make calculation  \n",
    "# deterministic (just a good practice)  \n",
    "np.random.seed(1)  "
   ]
  },
  {
   "cell_type": "code",
   "execution_count": 32,
   "metadata": {
    "collapsed": true
   },
   "outputs": [],
   "source": [
    "# initialize weights randomly with mean 0  \n",
    "syn0 = 2*np.random.random((3,1)) - 1  "
   ]
  },
  {
   "cell_type": "code",
   "execution_count": 33,
   "metadata": {
    "collapsed": false
   },
   "outputs": [
    {
     "data": {
      "text/plain": [
       "array([[-0.16595599],\n",
       "       [ 0.44064899],\n",
       "       [-0.99977125]])"
      ]
     },
     "execution_count": 33,
     "metadata": {},
     "output_type": "execute_result"
    }
   ],
   "source": [
    "syn0"
   ]
  },
  {
   "cell_type": "code",
   "execution_count": 36,
   "metadata": {
    "collapsed": false
   },
   "outputs": [],
   "source": [
    "for iter in xrange(10000):  \n",
    "  \n",
    "    # forward propagation  \n",
    "    l0 = X  \n",
    "    l1 = nonlin(np.dot(l0,syn0))  \n",
    "\n",
    "    # how much did we miss?  \n",
    "    l1_error = y - l1  \n",
    "    \n",
    "    # multiply how much we missed by the   \n",
    "    # slope of the sigmoid at the values in l1 \n",
    "    #很多奥秘隐藏于此\n",
    "    l1_delta = l1_error * nonlin(l1,True)  \n",
    "\n",
    "    # update weights  \n",
    "    #神经网络中的一切都为这行操作服务\n",
    "    syn0 += np.dot(l0.T,l1_delta)  \n",
    "    "
   ]
  },
  {
   "cell_type": "code",
   "execution_count": 37,
   "metadata": {
    "collapsed": false
   },
   "outputs": [
    {
     "name": "stdout",
     "output_type": "stream",
     "text": [
      "[0 0 1] [ 10.38040701  -0.20641179  -4.98452047] [-4.98452047] [ 0.00679655]\n",
      "[0 1 1] [ 10.38040701  -0.20641179  -4.98452047] [-5.19093226] [ 0.005536]\n",
      "[1 0 1] [ 10.38040701  -0.20641179  -4.98452047] [ 5.39588654] [ 0.99548528]\n",
      "[1 1 1] [ 10.38040701  -0.20641179  -4.98452047] [ 5.18947475] [ 0.99445597]\n"
     ]
    }
   ],
   "source": [
    "for line in X:\n",
    "    print line,syn0.T[0], np.dot( line, syn0 ) , nonlin(np.dot( line, syn0 )) "
   ]
  },
  {
   "cell_type": "code",
   "execution_count": null,
   "metadata": {
    "collapsed": true
   },
   "outputs": [],
   "source": []
  },
  {
   "cell_type": "code",
   "execution_count": null,
   "metadata": {
    "collapsed": true
   },
   "outputs": [],
   "source": []
  },
  {
   "cell_type": "raw",
   "metadata": {},
   "source": [
    "X\t输入数据的矩阵，每行都是一个训练样例\n",
    "y\t输出值的矩阵，每行都是一个训练样例的输出\n",
    "l0\t第一层网络，节点数由输入值决定\n",
    "l1\t第二层网络，也叫做隐含层\n",
    "l2\t网络的最后一层，是我们的预测值，训练以后应该更真实值差不多\n",
    "syn0\t第一层权值，突触0,连接l0与l1\n",
    "syn1\t第二层权值，突触1,连接l1与l2\n",
    "l2_error\t这是神经网络输出的误差值\n",
    "l2_delta\t这是基于置信度衡量的输出误差，也就是说当斜率很平缓时，结果是很让人相信的\n",
    "l1_error\tl2_delta的权值是由syn1的权值决定的，我们因此可以计算隐含层的误差\n",
    "l1_delta\t这是基于置信度衡量的l1的误差，同l2_delta"
   ]
  },
  {
   "cell_type": "code",
   "execution_count": 40,
   "metadata": {
    "collapsed": false
   },
   "outputs": [
    {
     "name": "stdout",
     "output_type": "stream",
     "text": [
      "Error:0.491749353585\n",
      "Error:0.00496935711177\n",
      "Error:0.00342223413157\n",
      "Error:0.00275673103196\n",
      "Error:0.00236629812271\n",
      "Error:0.00210271350559\n",
      "Error:0.0019097054546\n",
      "Error:0.00176065436734\n",
      "Error:0.00164113774169\n",
      "Error:0.00154257998295\n"
     ]
    }
   ],
   "source": [
    "# randomly initialize our weights with mean 0  \n",
    "syn0 = 2*np.random.random((3,4)) - 1  \n",
    "syn1 = 2*np.random.random((4,1)) - 1  \n",
    "  \n",
    "for j in xrange(100000):  \n",
    "\n",
    "    # Feed forward through layers 0, 1, and 2  \n",
    "    l0 = X  \n",
    "    l1 = nonlin(np.dot(l0,syn0))  \n",
    "    l2 = nonlin(np.dot(l1,syn1))  \n",
    "  \n",
    "    # how much did we miss the target value?  \n",
    "    #计算输出与我们预定的结果的差距,如果l2_error很大，说明误差很大，\n",
    "    #需要对W进行较大的调整\n",
    "    l2_error = y - l2  \n",
    "      \n",
    "    if (j% 10000) == 0:  \n",
    "        print \"Error:\" + str(np.mean(np.abs(l2_error)))  \n",
    "          \n",
    "    # in what direction is the target value?  \n",
    "    # were we really sure? if so, don't change too much.\n",
    "    #求l2的梯度\n",
    "    l2_delta = l2_error*nonlin(l2,deriv=True)  \n",
    "  \n",
    "    # how much did each l1 value contribute to the l2 error (according to the weights)? \n",
    "    #算出l1对追踪结果误差的影响,w1.T是w1的梯度\n",
    "    l1_error = l2_delta.dot(syn1.T)  \n",
    "      \n",
    "    # in what direction is the target l1?  \n",
    "    # were we really sure? if so, don't change too much.  \n",
    "    #求l1的梯度\n",
    "    l1_delta = l1_error * nonlin(l1,deriv=True)  \n",
    "\n",
    "    #对W0，W1进行修正\n",
    "    syn1 += l1.T.dot(l2_delta)  \n",
    "    syn0 += l0.T.dot(l1_delta)  "
   ]
  },
  {
   "cell_type": "code",
   "execution_count": null,
   "metadata": {
    "collapsed": true
   },
   "outputs": [],
   "source": []
  },
  {
   "cell_type": "code",
   "execution_count": null,
   "metadata": {
    "collapsed": true
   },
   "outputs": [],
   "source": []
  },
  {
   "cell_type": "code",
   "execution_count": null,
   "metadata": {
    "collapsed": true
   },
   "outputs": [],
   "source": []
  },
  {
   "cell_type": "code",
   "execution_count": null,
   "metadata": {
    "collapsed": true
   },
   "outputs": [],
   "source": []
  },
  {
   "cell_type": "code",
   "execution_count": null,
   "metadata": {
    "collapsed": true
   },
   "outputs": [],
   "source": []
  },
  {
   "cell_type": "code",
   "execution_count": null,
   "metadata": {
    "collapsed": true
   },
   "outputs": [],
   "source": []
  },
  {
   "cell_type": "code",
   "execution_count": null,
   "metadata": {
    "collapsed": true
   },
   "outputs": [],
   "source": []
  },
  {
   "cell_type": "code",
   "execution_count": null,
   "metadata": {
    "collapsed": true
   },
   "outputs": [],
   "source": []
  },
  {
   "cell_type": "code",
   "execution_count": null,
   "metadata": {
    "collapsed": true
   },
   "outputs": [],
   "source": []
  },
  {
   "cell_type": "code",
   "execution_count": null,
   "metadata": {
    "collapsed": true
   },
   "outputs": [],
   "source": []
  },
  {
   "cell_type": "code",
   "execution_count": null,
   "metadata": {
    "collapsed": true
   },
   "outputs": [],
   "source": []
  }
 ],
 "metadata": {
  "kernelspec": {
   "display_name": "Python 2",
   "language": "python",
   "name": "python2"
  },
  "language_info": {
   "codemirror_mode": {
    "name": "ipython",
    "version": 2
   },
   "file_extension": ".py",
   "mimetype": "text/x-python",
   "name": "python",
   "nbconvert_exporter": "python",
   "pygments_lexer": "ipython2",
   "version": "2.7.12"
  }
 },
 "nbformat": 4,
 "nbformat_minor": 2
}
