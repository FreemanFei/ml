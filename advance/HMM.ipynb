{
 "cells": [
  {
   "cell_type": "markdown",
   "metadata": {},
   "source": [
    "![复制图片地址](https://raw.githubusercontent.com/applenob/machine_learning_basic/master/res/hmm.jpg)\n"
   ]
  },
  {
   "cell_type": "code",
   "execution_count": 8,
   "metadata": {
    "collapsed": true
   },
   "outputs": [],
   "source": [
    "import numpy as np\n",
    "import json"
   ]
  },
  {
   "cell_type": "code",
   "execution_count": 2,
   "metadata": {
    "collapsed": true
   },
   "outputs": [],
   "source": [
    "# 对应状态集合Q\n",
    "states = ('Healthy', 'Fever')\n",
    "# 对应观测集合V\n",
    "observations = ('normal', 'cold', 'dizzy')\n",
    "# 初始状态概率向量π\n",
    "start_probability = {'Healthy': 0.6, 'Fever': 0.4}\n",
    "# 状态转移矩阵A\n",
    "transition_probability = {\n",
    "    'Healthy': {'Healthy': 0.7, 'Fever': 0.3},\n",
    "    'Fever': {'Healthy': 0.4, 'Fever': 0.6},\n",
    "}\n",
    "# 观测概率矩阵B\n",
    "emission_probability = {\n",
    "    'Healthy': {'normal': 0.5, 'cold': 0.4, 'dizzy': 0.1},\n",
    "    'Fever': {'normal': 0.1, 'cold': 0.3, 'dizzy': 0.6},\n",
    "}"
   ]
  },
  {
   "cell_type": "code",
   "execution_count": 4,
   "metadata": {
    "collapsed": false
   },
   "outputs": [
    {
     "name": "stdout",
     "output_type": "stream",
     "text": [
      "({0: 'Healthy', 1: 'Fever'}, {'Healthy': 0, 'Fever': 1})\n",
      "({0: 'normal', 1: 'cold', 2: 'dizzy'}, {'cold': 1, 'dizzy': 2, 'normal': 0})\n"
     ]
    }
   ],
   "source": [
    "def generate_index_map(lables):\n",
    "    id2label = {}\n",
    "    label2id = {}\n",
    "    i = 0\n",
    "    for l in lables:\n",
    "        id2label[i] = l\n",
    "        label2id[l] = i\n",
    "        i += 1\n",
    "    return id2label, label2id\n",
    " \n",
    "states_id2label, states_label2id = generate_index_map(states)\n",
    "observations_id2label, observations_label2id = generate_index_map(observations)\n",
    "print(states_id2label, states_label2id)\n",
    "print(observations_id2label, observations_label2id)"
   ]
  },
  {
   "cell_type": "code",
   "execution_count": null,
   "metadata": {
    "collapsed": true
   },
   "outputs": [],
   "source": []
  },
  {
   "cell_type": "code",
   "execution_count": 5,
   "metadata": {
    "collapsed": true
   },
   "outputs": [],
   "source": [
    "def convert_map_to_vector(map_, label2id):\n",
    "    \"\"\"将概率向量从dict转换成一维array\"\"\"\n",
    "    v = np.zeros(len(map_), dtype=float)\n",
    "    for e in map_:\n",
    "        v[label2id[e]] = map_[e]\n",
    "    return v\n",
    "\n",
    " \n",
    "def convert_map_to_matrix(map_, label2id1, label2id2):\n",
    "    \"\"\"将概率转移矩阵从dict转换成矩阵\"\"\"\n",
    "    m = np.zeros((len(label2id1), len(label2id2)), dtype=float)\n",
    "    for line in map_:\n",
    "        for col in map_[line]:\n",
    "            m[label2id1[line]][label2id2[col]] = map_[line][col]\n",
    "    return m"
   ]
  },
  {
   "cell_type": "code",
   "execution_count": 6,
   "metadata": {
    "collapsed": false
   },
   "outputs": [
    {
     "name": "stdout",
     "output_type": "stream",
     "text": [
      "[[ 0.7  0.3]\n",
      " [ 0.4  0.6]]\n",
      "[[ 0.5  0.4  0.1]\n",
      " [ 0.1  0.3  0.6]]\n",
      "[ 0.6  0.4]\n"
     ]
    }
   ],
   "source": [
    "A = convert_map_to_matrix(transition_probability, states_label2id, states_label2id)\n",
    "print(A)\n",
    "B = convert_map_to_matrix(emission_probability, states_label2id, observations_label2id)\n",
    "print(B)\n",
    "observations_index = [observations_label2id[o] for o in observations]\n",
    "pi = convert_map_to_vector(start_probability, states_label2id)\n",
    "print(pi)"
   ]
  },
  {
   "cell_type": "code",
   "execution_count": null,
   "metadata": {
    "collapsed": true
   },
   "outputs": [],
   "source": []
  },
  {
   "cell_type": "code",
   "execution_count": 13,
   "metadata": {
    "collapsed": true
   },
   "outputs": [],
   "source": [
    "# 随机生成观测序列和状态序列    \n",
    "def simulate(T):\n",
    "\n",
    "    def draw_from(probs):\n",
    "        \"\"\"\n",
    "        1.np.random.multinomial:\n",
    "        按照多项式分布，生成数据\n",
    "        >>> np.random.multinomial(20, [1/6.]*6, size=2)\n",
    "                array([[3, 4, 3, 3, 4, 3],\n",
    "                       [2, 4, 3, 4, 0, 7]])\n",
    "         For the first run, we threw 3 times 1, 4 times 2, etc.  \n",
    "         For the second, we threw 2 times 1, 4 times 2, etc.\n",
    "        2.np.where:\n",
    "        >>> x = np.arange(9.).reshape(3, 3)\n",
    "        >>> np.where( x > 5 )\n",
    "        (array([2, 2, 2]), array([0, 1, 2]))\n",
    "        \"\"\"\n",
    "        return np.where(np.random.multinomial(1,probs) == 1)[0][0]\n",
    "\n",
    "    observations = np.zeros(T, dtype=int)\n",
    "    states = np.zeros(T, dtype=int)\n",
    "    states[0] = draw_from(pi)\n",
    "    observations[0] = draw_from(B[states[0],:])\n",
    "    for t in range(1, T):\n",
    "        states[t] = draw_from(A[states[t-1],:])\n",
    "        observations[t] = draw_from(B[states[t],:])\n",
    "    return observations, states"
   ]
  },
  {
   "cell_type": "code",
   "execution_count": 24,
   "metadata": {
    "collapsed": false
   },
   "outputs": [
    {
     "name": "stdout",
     "output_type": "stream",
     "text": [
      "[2 1 0 1 0 2 2 2 2 1]\n",
      "[1 1 0 0 0 0 0 1 1 1]\n",
      "病人的状态:  ['Fever', 'Fever', 'Healthy', 'Healthy', 'Healthy', 'Healthy', 'Healthy', 'Fever', 'Fever', 'Fever']\n",
      "病人的观测:  ['dizzy', 'cold', 'normal', 'cold', 'normal', 'dizzy', 'dizzy', 'dizzy', 'dizzy', 'cold']\n"
     ]
    }
   ],
   "source": [
    "# 生成模拟数据\n",
    "observations_data, states_data = simulate(10)\n",
    "print(observations_data)\n",
    "print(states_data)\n",
    "# 相应的label\n",
    "print(\"病人的状态: \"),([states_id2label[index] for index in states_data])\n",
    "print(\"病人的观测: \"),([observations_id2label[index] for index in observations_data])"
   ]
  },
  {
   "cell_type": "markdown",
   "metadata": {},
   "source": [
    "HMM在实际应用中，一般会遇上三种问题：\n",
    "\n",
    "1.概率计算问题：给定模型λ=(A,B,π)λ=(A,B,π) 和观测序列O=o1,o2,...,oTO=o1,o2,...,oT，计算在模型λλ下观测序列OO出现的概率P(O|λ)P(O|λ)。\n",
    "2.学习问题：已知观测序列O=o1,o2,...,oTO=o1,o2,...,oT，估计模型λ=(A,B,π)λ=(A,B,π)，使P(O|λ)P(O|λ)最大。即用极大似然法的方法估计参数。\n",
    "3.预测问题（也称为解码（decoding）问题）：已知观测序列O=o1,o2,...,oTO=o1,o2,...,oT 和模型λ=(A,B,π)λ=(A,B,π)，求给定观测序列条件概率P(I|O)P(I|O)最大的状态序列I=(i1,i2,...,iT)I=(i1,i2,...,iT)，即给定观测序列，求最有可能的对应的状态序列。\n",
    "回到刚才的例子，这三个问题就是：\n",
    "\n",
    "1.概率计算问题：如果给定模型参数，病人某一系列观测的症状出现的概率。\n",
    "2.学习问题：根据病人某一些列观测的症状，学习模型参数。\n",
    "3.预测问题：根据学到的模型，预测病人这几天是不是有感冒。"
   ]
  },
  {
   "cell_type": "code",
   "execution_count": null,
   "metadata": {
    "collapsed": true
   },
   "outputs": [],
   "source": []
  },
  {
   "cell_type": "code",
   "execution_count": 15,
   "metadata": {
    "collapsed": true
   },
   "outputs": [],
   "source": [
    "def forward(obs_seq):\n",
    "    \"\"\"前向算法\"\"\"\n",
    "    N = A.shape[0]\n",
    "    T = len(obs_seq)\n",
    "    \n",
    "    # F保存前向概率矩阵\n",
    "    F = np.zeros((N,T))\n",
    "    F[:,0] = pi * B[:, obs_seq[0]]\n",
    "\n",
    "    for t in range(1, T):\n",
    "        for n in range(N):\n",
    "            F[n,t] = np.dot(F[:,t-1], (A[:,n])) * B[n, obs_seq[t]]\n",
    "\n",
    "    return F\n",
    "\n",
    "def backward(obs_seq):\n",
    "    \"\"\"后向算法\"\"\"\n",
    "    N = A.shape[0]\n",
    "    T = len(obs_seq)\n",
    "    # X保存后向概率矩阵\n",
    "    X = np.zeros((N,T))\n",
    "    X[:,-1:] = 1\n",
    "\n",
    "    for t in reversed(range(T-1)):\n",
    "        for n in range(N):\n",
    "            X[n,t] = np.sum(X[:,t+1] * A[n,:] * B[:, obs_seq[t+1]])\n",
    "\n",
    "    return X"
   ]
  },
  {
   "cell_type": "code",
   "execution_count": 17,
   "metadata": {
    "collapsed": true
   },
   "outputs": [],
   "source": [
    "def baum_welch_train(observations, A, B, pi, criterion=0.05):\n",
    "    \"\"\"无监督学习算法——Baum-Weich算法\"\"\"\n",
    "    n_states = A.shape[0]\n",
    "    n_samples = len(observations)\n",
    "\n",
    "    done = False\n",
    "    while not done:\n",
    "        # alpha_t(i) = P(O_1 O_2 ... O_t, q_t = S_i | hmm)\n",
    "        # Initialize alpha\n",
    "        alpha = forward(observations)\n",
    "\n",
    "        # beta_t(i) = P(O_t+1 O_t+2 ... O_T | q_t = S_i , hmm)\n",
    "        # Initialize beta\n",
    "        beta = backward(observations)\n",
    "        # ξ_t(i,j)=P(i_t=q_i,i_{i+1}=q_j|O,λ)\n",
    "        xi = np.zeros((n_states,n_states,n_samples-1))\n",
    "        for t in range(n_samples-1):\n",
    "            denom = np.dot(np.dot(alpha[:,t].T, A) * B[:,observations[t+1]].T, beta[:,t+1])\n",
    "            for i in range(n_states):\n",
    "                numer = alpha[i,t] * A[i,:] * B[:,observations[t+1]].T * beta[:,t+1].T\n",
    "                xi[i,:,t] = numer / denom\n",
    "\n",
    "        # γ_t(i)：gamma_t(i) = P(q_t = S_i | O, hmm)\n",
    "        gamma = np.sum(xi,axis=1)\n",
    "        # Need final gamma element for new B\n",
    "        # xi的第三维长度n_samples-1，少一个，所以gamma要计算最后一个\n",
    "        prod =  (alpha[:,n_samples-1] * beta[:,n_samples-1]).reshape((-1,1))\n",
    "        gamma = np.hstack((gamma,  prod / np.sum(prod))) #append one more to gamma!!!\n",
    "        \n",
    "        # 更新模型参数\n",
    "        newpi = gamma[:,0]\n",
    "        newA = np.sum(xi,2) / np.sum(gamma[:,:-1],axis=1).reshape((-1,1))\n",
    "        newB = np.copy(B)\n",
    "        num_levels = B.shape[1]\n",
    "        sumgamma = np.sum(gamma,axis=1)\n",
    "        for lev in range(num_levels):\n",
    "            mask = observations == lev\n",
    "            newB[:,lev] = np.sum(gamma[:,mask],axis=1) / sumgamma\n",
    "        \n",
    "        # 检查是否满足阈值\n",
    "        if np.max(abs(pi - newpi)) < criterion and \\\n",
    "                        np.max(abs(A - newA)) < criterion and \\\n",
    "                        np.max(abs(B - newB)) < criterion:\n",
    "            done = 1\n",
    "        A[:], B[:], pi[:] = newA, newB, newpi\n",
    "    return newA, newB, newpi"
   ]
  },
  {
   "cell_type": "code",
   "execution_count": null,
   "metadata": {
    "collapsed": true
   },
   "outputs": [],
   "source": []
  },
  {
   "cell_type": "code",
   "execution_count": 18,
   "metadata": {
    "collapsed": false
   },
   "outputs": [
    {
     "name": "stdout",
     "output_type": "stream",
     "text": [
      "('newA: ', array([[ 0.5,  0.5],\n",
      "       [ 0.5,  0.5]]))\n",
      "('newB: ', array([[ 0.26,  0.26,  0.48],\n",
      "       [ 0.26,  0.26,  0.48]]))\n",
      "('newpi: ', array([ 0.5,  0.5]))\n"
     ]
    }
   ],
   "source": [
    "A = np.array([[0.5, 0.5],[0.5, 0.5]])\n",
    "B = np.array([[0.3, 0.3, 0.3],[0.3, 0.3, 0.3]])\n",
    "pi = np.array([0.5, 0.5])\n",
    "\n",
    "observations_data, states_data = simulate(100)\n",
    "newA, newB, newpi = baum_welch_train(observations_data, A, B, pi)\n",
    "print(\"newA: \", newA)\n",
    "print(\"newB: \", newB)\n",
    "print(\"newpi: \", newpi)"
   ]
  },
  {
   "cell_type": "code",
   "execution_count": 19,
   "metadata": {
    "collapsed": true
   },
   "outputs": [],
   "source": [
    "def viterbi(obs_seq, A, B, pi):\n",
    "    \"\"\"\n",
    "    Returns\n",
    "    -------\n",
    "    V : numpy.ndarray\n",
    "        V [s][t] = Maximum probability of an observation sequence ending\n",
    "                   at time 't' with final state 's'\n",
    "    prev : numpy.ndarray\n",
    "        Contains a pointer to the previous state at t-1 that maximizes\n",
    "        V[state][t]\n",
    "        \n",
    "    V对应δ，prev对应ψ\n",
    "    \"\"\"\n",
    "    N = A.shape[0]\n",
    "    T = len(obs_seq)\n",
    "    prev = np.zeros((T - 1, N), dtype=int)\n",
    "\n",
    "    # DP matrix containing max likelihood of state at a given time\n",
    "    V = np.zeros((N, T))\n",
    "    V[:,0] = pi * B[:,obs_seq[0]]\n",
    "\n",
    "    for t in range(1, T):\n",
    "        for n in range(N):\n",
    "            seq_probs = V[:,t-1] * A[:,n] * B[n, obs_seq[t]]\n",
    "            prev[t-1,n] = np.argmax(seq_probs)\n",
    "            V[n,t] = np.max(seq_probs)\n",
    "\n",
    "    return V, prev\n",
    "\n",
    "def build_viterbi_path(prev, last_state):\n",
    "    \"\"\"Returns a state path ending in last_state in reverse order.\n",
    "    最优路径回溯\n",
    "    \"\"\"\n",
    "    T = len(prev)\n",
    "    yield(last_state)\n",
    "    for i in range(T-1, -1, -1):\n",
    "        yield(prev[i, last_state])\n",
    "        last_state = prev[i, last_state]\n",
    "        \n",
    "def observation_prob(obs_seq):\n",
    "    \"\"\" P( entire observation sequence | A, B, pi ) \"\"\"\n",
    "    return np.sum(forward(obs_seq)[:,-1])\n",
    "\n",
    "def state_path(obs_seq, A, B, pi):\n",
    "    \"\"\"\n",
    "    Returns\n",
    "    -------\n",
    "    V[last_state, -1] : float\n",
    "        Probability of the optimal state path\n",
    "    path : list(int)\n",
    "        Optimal state path for the observation sequence\n",
    "    \"\"\"\n",
    "    V, prev = viterbi(obs_seq, A, B, pi)\n",
    "    # Build state path with greatest probability\n",
    "    last_state = np.argmax(V[:,-1])\n",
    "    path = list(build_viterbi_path(prev, last_state))\n",
    "\n",
    "    return V[last_state,-1], reversed(path)"
   ]
  },
  {
   "cell_type": "code",
   "execution_count": 20,
   "metadata": {
    "collapsed": false
   },
   "outputs": [
    {
     "name": "stdout",
     "output_type": "stream",
     "text": [
      "('       ', '    normal       cold      dizzy')\n",
      "Healthy:   0.130000   0.016900   0.004056\n",
      "  Fever:   0.130000   0.016900   0.004056\n",
      "\n",
      "The most possible states and probability are:\n",
      "Healthy\n",
      "Healthy\n",
      "Healthy\n",
      "0.004056\n"
     ]
    }
   ],
   "source": [
    "A = convert_map_to_matrix(transition_probability, states_label2id, states_label2id)\n",
    "B = convert_map_to_matrix(emission_probability, states_label2id, observations_label2id)\n",
    "observations_index = [observations_label2id[o] for o in observations]\n",
    "pi = convert_map_to_vector(start_probability, states_label2id)\n",
    "V, p = viterbi(observations_index, newA, newB, newpi)\n",
    "print(\" \" * 7, \" \".join((\"%10s\" % observations_id2label[i]) for i in observations_index))\n",
    "for s in range(0, 2):\n",
    "    print(\"%7s: \" % states_id2label[s] + \" \".join(\"%10s\" % (\"%f\" % v) for v in V[s]))\n",
    "print('\\nThe most possible states and probability are:')\n",
    "p, ss = state_path(observations_index, newA, newB, newpi)\n",
    "for s in ss:\n",
    "    print(states_id2label[s])\n",
    "print(p)"
   ]
  },
  {
   "cell_type": "code",
   "execution_count": null,
   "metadata": {
    "collapsed": true
   },
   "outputs": [],
   "source": []
  },
  {
   "cell_type": "code",
   "execution_count": null,
   "metadata": {
    "collapsed": true
   },
   "outputs": [],
   "source": []
  },
  {
   "cell_type": "code",
   "execution_count": null,
   "metadata": {
    "collapsed": true
   },
   "outputs": [],
   "source": []
  },
  {
   "cell_type": "code",
   "execution_count": null,
   "metadata": {
    "collapsed": true
   },
   "outputs": [],
   "source": []
  },
  {
   "cell_type": "code",
   "execution_count": null,
   "metadata": {
    "collapsed": true
   },
   "outputs": [],
   "source": []
  },
  {
   "cell_type": "code",
   "execution_count": null,
   "metadata": {
    "collapsed": true
   },
   "outputs": [],
   "source": []
  },
  {
   "cell_type": "code",
   "execution_count": null,
   "metadata": {
    "collapsed": true
   },
   "outputs": [],
   "source": []
  },
  {
   "cell_type": "code",
   "execution_count": null,
   "metadata": {
    "collapsed": true
   },
   "outputs": [],
   "source": []
  },
  {
   "cell_type": "code",
   "execution_count": null,
   "metadata": {
    "collapsed": true
   },
   "outputs": [],
   "source": []
  }
 ],
 "metadata": {
  "kernelspec": {
   "display_name": "Python 2",
   "language": "python",
   "name": "python2"
  },
  "language_info": {
   "codemirror_mode": {
    "name": "ipython",
    "version": 2
   },
   "file_extension": ".py",
   "mimetype": "text/x-python",
   "name": "python",
   "nbconvert_exporter": "python",
   "pygments_lexer": "ipython2",
   "version": "2.7.12"
  }
 },
 "nbformat": 4,
 "nbformat_minor": 2
}
